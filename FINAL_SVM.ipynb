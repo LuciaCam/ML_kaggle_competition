{
 "cells": [
  {
   "attachments": {},
   "cell_type": "markdown",
   "metadata": {},
   "source": [
    "# Support Machine Vectors"
   ]
  },
  {
   "attachments": {},
   "cell_type": "markdown",
   "metadata": {},
   "source": [
    "\n",
    "Support Vector Machines (SVM) are widely recognized and widely used in machine learning for classification tasks. SVM offers distinct advantages compared to other methods, such as Linear Discriminant Analysis (LDA) and logistic regression. LDA focuses on modeling the joint distribution of both the target variable $(Y)$ and the input features $(X)$. On the other hand, logistic regression primarily models the conditional distribution of the target variable $(Y)$ given the input features $(X)$.\n",
    "\n",
    "In contrast, SVM takes a geometric approach and does not rely on any specific assumptions about the underlying distribution of the data. Instead, SVM aims to find an optimal separating hyperplane that effectively separates the different classes in the data. By directly seeking the separating hyperplane, SVM provides a unique perspective in classification tasks and offers a powerful tool for solving classification problems. Its ability to handle complex data distributions without making explicit distributional assumptions makes SVM a versatile and widely adopted technique in machine learning research and practice."
   ]
  },
  {
   "attachments": {},
   "cell_type": "markdown",
   "metadata": {},
   "source": [
    "There are three types of classifiers and we will specifically focus on one since the classes are not linearly separable as is assumed in the Maximal Margin Classifier anad Support Vector Classifier. Instead, we will utilize the Support Vector Machines that have a soft non-linear separation in the original feature space since these classes are not separable. "
   ]
  },
  {
   "attachments": {},
   "cell_type": "markdown",
   "metadata": {},
   "source": [
    "## Resources"
   ]
  },
  {
   "attachments": {},
   "cell_type": "markdown",
   "metadata": {},
   "source": [
    "* 18_SVM_MMC.pdf\n",
    "\n",
    "* 20_SVM.pdf"
   ]
  }
 ],
 "metadata": {
  "language_info": {
   "name": "python"
  },
  "orig_nbformat": 4
 },
 "nbformat": 4,
 "nbformat_minor": 2
}
