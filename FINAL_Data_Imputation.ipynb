{
 "cells": [
  {
   "attachments": {},
   "cell_type": "markdown",
   "metadata": {},
   "source": [
    "# Data Imputation"
   ]
  },
  {
   "attachments": {},
   "cell_type": "markdown",
   "metadata": {},
   "source": [
    "## Libraries"
   ]
  },
  {
   "cell_type": "code",
   "execution_count": null,
   "metadata": {},
   "outputs": [],
   "source": [
    "import pandas as pd\n",
    "import numpy as np\n",
    "import csv\n",
    "from sklearn.pipeline import Pipeline\n",
    "from sklearn.compose import ColumnTransformer\n",
    "from sklearn.preprocessing import OneHotEncoder, OrdinalEncoder, StandardScaler\n",
    "from sklearn.impute import SimpleImputer\n",
    "from sklearn.model_selection import train_test_split, ParameterGrid, KFold, GridSearchCV\n",
    "from sklearn.metrics import accuracy_score, confusion_matrix, ConfusionMatrixDisplay\n",
    "from sklearn.linear_model import LogisticRegression\n",
    "from sklearn.ensemble import RandomForestClassifier, GradientBoostingClassifier\n",
    "from sklearn.neighbors import KNeighborsClassifier"
   ]
  },
  {
   "attachments": {},
   "cell_type": "markdown",
   "metadata": {},
   "source": [
    "From the Data_Explotation notebook, there were four predictors with missing data:\n",
    "- `job`\n",
    "- `education`\n",
    "- `device`\n",
    "- `outcome_old`"
   ]
  },
  {
   "attachments": {},
   "cell_type": "markdown",
   "metadata": {},
   "source": [
    "# Import Data"
   ]
  },
  {
   "cell_type": "code",
   "execution_count": null,
   "metadata": {},
   "outputs": [],
   "source": [
    "campaign_ad = pd.read_csv(\"MLUnige2023_subscriptions_train.csv\", index_col=\"Id\")\n",
    "campaign_test = pd.read_csv(\"MLUnige2023_subscriptions_test.csv\", index_col=\"Id\")"
   ]
  },
  {
   "attachments": {},
   "cell_type": "markdown",
   "metadata": {},
   "source": [
    "## Dummify `marital` and `outcome_old`"
   ]
  },
  {
   "cell_type": "code",
   "execution_count": null,
   "metadata": {},
   "outputs": [],
   "source": [
    "campaign_ad = pd.get_dummies(campaign_ad, columns=['marital', 'outcome_old'])"
   ]
  },
  {
   "attachments": {},
   "cell_type": "markdown",
   "metadata": {},
   "source": [
    "## Train-Valid-Test Split"
   ]
  },
  {
   "attachments": {},
   "cell_type": "markdown",
   "metadata": {},
   "source": [
    "First, we split training and test, keeping 70% of our Training within `X_train` and 30% within `X_test`. From the 30% Test split, we split in half, so that `X_test` had 15% and `X_valid` had the same percentage."
   ]
  },
  {
   "cell_type": "code",
   "execution_count": null,
   "metadata": {},
   "outputs": [],
   "source": [
    "X = campaign_ad.drop(columns = 'subscription')\n",
    "y = campaign_ad['subscription']\n",
    "\n",
    "X_train, X_test, y_train, y_test = train_test_split(X, y, test_size = 0.3, random_state = 12) # Test split\n",
    "X_valid, X_test, y_valid, y_test = train_test_split(X_test, y_test, test_size = 0.5, random_state = 46) # Validation split"
   ]
  },
  {
   "attachments": {},
   "cell_type": "markdown",
   "metadata": {},
   "source": [
    "These splits can be seen below."
   ]
  },
  {
   "cell_type": "code",
   "execution_count": null,
   "metadata": {},
   "outputs": [
    {
     "name": "stdout",
     "output_type": "stream",
     "text": [
      "size of training set: 6266\n",
      "size of validation set: 1343\n",
      "size of test set: 1343\n"
     ]
    }
   ],
   "source": [
    "print('Size of training set:', X_train.shape[0])\n",
    "print('Size of validation set:', X_valid.shape[0])\n",
    "print('Size of test set:', X_test.shape[0])"
   ]
  },
  {
   "attachments": {},
   "cell_type": "markdown",
   "metadata": {},
   "source": [
    "#  Device Imputation\n",
    "## Train `device` "
   ]
  },
  {
   "attachments": {},
   "cell_type": "markdown",
   "metadata": {},
   "source": [
    "We began with computing the missing values of `device` because it had the least amount of categories."
   ]
  },
  {
   "cell_type": "code",
   "execution_count": null,
   "metadata": {},
   "outputs": [
    {
     "data": {
      "text/html": [
       "<div>\n",
       "<style scoped>\n",
       "    .dataframe tbody tr th:only-of-type {\n",
       "        vertical-align: middle;\n",
       "    }\n",
       "\n",
       "    .dataframe tbody tr th {\n",
       "        vertical-align: top;\n",
       "    }\n",
       "\n",
       "    .dataframe thead th {\n",
       "        text-align: right;\n",
       "    }\n",
       "</style>\n",
       "<table border=\"1\" class=\"dataframe\">\n",
       "  <thead>\n",
       "    <tr style=\"text-align: right;\">\n",
       "      <th></th>\n",
       "      <th>age</th>\n",
       "      <th>day</th>\n",
       "      <th>month</th>\n",
       "      <th>time_spent</th>\n",
       "      <th>banner_views</th>\n",
       "      <th>banner_views_old</th>\n",
       "      <th>days_elapsed_old</th>\n",
       "      <th>X1</th>\n",
       "      <th>X2</th>\n",
       "      <th>X3</th>\n",
       "      <th>X4</th>\n",
       "      <th>marital_divorced</th>\n",
       "      <th>marital_married</th>\n",
       "      <th>marital_single</th>\n",
       "      <th>outcome_old_failure</th>\n",
       "      <th>outcome_old_na</th>\n",
       "      <th>outcome_old_other</th>\n",
       "      <th>outcome_old_success</th>\n",
       "    </tr>\n",
       "    <tr>\n",
       "      <th>Id</th>\n",
       "      <th></th>\n",
       "      <th></th>\n",
       "      <th></th>\n",
       "      <th></th>\n",
       "      <th></th>\n",
       "      <th></th>\n",
       "      <th></th>\n",
       "      <th></th>\n",
       "      <th></th>\n",
       "      <th></th>\n",
       "      <th></th>\n",
       "      <th></th>\n",
       "      <th></th>\n",
       "      <th></th>\n",
       "      <th></th>\n",
       "      <th></th>\n",
       "      <th></th>\n",
       "      <th></th>\n",
       "    </tr>\n",
       "  </thead>\n",
       "  <tbody>\n",
       "    <tr>\n",
       "      <th>4359</th>\n",
       "      <td>44</td>\n",
       "      <td>17</td>\n",
       "      <td>6</td>\n",
       "      <td>24.05</td>\n",
       "      <td>1</td>\n",
       "      <td>0</td>\n",
       "      <td>-1</td>\n",
       "      <td>0</td>\n",
       "      <td>0</td>\n",
       "      <td>0</td>\n",
       "      <td>0.076980</td>\n",
       "      <td>0</td>\n",
       "      <td>1</td>\n",
       "      <td>0</td>\n",
       "      <td>0</td>\n",
       "      <td>1</td>\n",
       "      <td>0</td>\n",
       "      <td>0</td>\n",
       "    </tr>\n",
       "    <tr>\n",
       "      <th>5378</th>\n",
       "      <td>31</td>\n",
       "      <td>26</td>\n",
       "      <td>5</td>\n",
       "      <td>8.60</td>\n",
       "      <td>5</td>\n",
       "      <td>0</td>\n",
       "      <td>-1</td>\n",
       "      <td>0</td>\n",
       "      <td>0</td>\n",
       "      <td>1</td>\n",
       "      <td>0.068700</td>\n",
       "      <td>1</td>\n",
       "      <td>0</td>\n",
       "      <td>0</td>\n",
       "      <td>0</td>\n",
       "      <td>1</td>\n",
       "      <td>0</td>\n",
       "      <td>0</td>\n",
       "    </tr>\n",
       "    <tr>\n",
       "      <th>3095</th>\n",
       "      <td>49</td>\n",
       "      <td>5</td>\n",
       "      <td>6</td>\n",
       "      <td>0.45</td>\n",
       "      <td>3</td>\n",
       "      <td>0</td>\n",
       "      <td>-1</td>\n",
       "      <td>0</td>\n",
       "      <td>0</td>\n",
       "      <td>0</td>\n",
       "      <td>0.088029</td>\n",
       "      <td>0</td>\n",
       "      <td>1</td>\n",
       "      <td>0</td>\n",
       "      <td>0</td>\n",
       "      <td>1</td>\n",
       "      <td>0</td>\n",
       "      <td>0</td>\n",
       "    </tr>\n",
       "    <tr>\n",
       "      <th>8737</th>\n",
       "      <td>36</td>\n",
       "      <td>16</td>\n",
       "      <td>6</td>\n",
       "      <td>33.80</td>\n",
       "      <td>11</td>\n",
       "      <td>0</td>\n",
       "      <td>-1</td>\n",
       "      <td>0</td>\n",
       "      <td>0</td>\n",
       "      <td>1</td>\n",
       "      <td>0.075291</td>\n",
       "      <td>0</td>\n",
       "      <td>1</td>\n",
       "      <td>0</td>\n",
       "      <td>0</td>\n",
       "      <td>1</td>\n",
       "      <td>0</td>\n",
       "      <td>0</td>\n",
       "    </tr>\n",
       "    <tr>\n",
       "      <th>7745</th>\n",
       "      <td>32</td>\n",
       "      <td>12</td>\n",
       "      <td>5</td>\n",
       "      <td>13.95</td>\n",
       "      <td>3</td>\n",
       "      <td>0</td>\n",
       "      <td>-1</td>\n",
       "      <td>0</td>\n",
       "      <td>0</td>\n",
       "      <td>1</td>\n",
       "      <td>0.085014</td>\n",
       "      <td>0</td>\n",
       "      <td>0</td>\n",
       "      <td>1</td>\n",
       "      <td>0</td>\n",
       "      <td>1</td>\n",
       "      <td>0</td>\n",
       "      <td>0</td>\n",
       "    </tr>\n",
       "    <tr>\n",
       "      <th>...</th>\n",
       "      <td>...</td>\n",
       "      <td>...</td>\n",
       "      <td>...</td>\n",
       "      <td>...</td>\n",
       "      <td>...</td>\n",
       "      <td>...</td>\n",
       "      <td>...</td>\n",
       "      <td>...</td>\n",
       "      <td>...</td>\n",
       "      <td>...</td>\n",
       "      <td>...</td>\n",
       "      <td>...</td>\n",
       "      <td>...</td>\n",
       "      <td>...</td>\n",
       "      <td>...</td>\n",
       "      <td>...</td>\n",
       "      <td>...</td>\n",
       "      <td>...</td>\n",
       "    </tr>\n",
       "    <tr>\n",
       "      <th>4510</th>\n",
       "      <td>32</td>\n",
       "      <td>6</td>\n",
       "      <td>6</td>\n",
       "      <td>29.80</td>\n",
       "      <td>5</td>\n",
       "      <td>0</td>\n",
       "      <td>-1</td>\n",
       "      <td>0</td>\n",
       "      <td>0</td>\n",
       "      <td>1</td>\n",
       "      <td>0.061255</td>\n",
       "      <td>0</td>\n",
       "      <td>1</td>\n",
       "      <td>0</td>\n",
       "      <td>0</td>\n",
       "      <td>1</td>\n",
       "      <td>0</td>\n",
       "      <td>0</td>\n",
       "    </tr>\n",
       "    <tr>\n",
       "      <th>4515</th>\n",
       "      <td>36</td>\n",
       "      <td>11</td>\n",
       "      <td>6</td>\n",
       "      <td>5.35</td>\n",
       "      <td>2</td>\n",
       "      <td>0</td>\n",
       "      <td>-1</td>\n",
       "      <td>0</td>\n",
       "      <td>0</td>\n",
       "      <td>0</td>\n",
       "      <td>0.095655</td>\n",
       "      <td>0</td>\n",
       "      <td>1</td>\n",
       "      <td>0</td>\n",
       "      <td>0</td>\n",
       "      <td>1</td>\n",
       "      <td>0</td>\n",
       "      <td>0</td>\n",
       "    </tr>\n",
       "    <tr>\n",
       "      <th>4030</th>\n",
       "      <td>29</td>\n",
       "      <td>6</td>\n",
       "      <td>5</td>\n",
       "      <td>12.90</td>\n",
       "      <td>2</td>\n",
       "      <td>0</td>\n",
       "      <td>-1</td>\n",
       "      <td>0</td>\n",
       "      <td>0</td>\n",
       "      <td>1</td>\n",
       "      <td>0.073194</td>\n",
       "      <td>0</td>\n",
       "      <td>1</td>\n",
       "      <td>0</td>\n",
       "      <td>0</td>\n",
       "      <td>1</td>\n",
       "      <td>0</td>\n",
       "      <td>0</td>\n",
       "    </tr>\n",
       "    <tr>\n",
       "      <th>5194</th>\n",
       "      <td>44</td>\n",
       "      <td>29</td>\n",
       "      <td>5</td>\n",
       "      <td>22.30</td>\n",
       "      <td>1</td>\n",
       "      <td>0</td>\n",
       "      <td>-1</td>\n",
       "      <td>0</td>\n",
       "      <td>0</td>\n",
       "      <td>1</td>\n",
       "      <td>0.073457</td>\n",
       "      <td>0</td>\n",
       "      <td>1</td>\n",
       "      <td>0</td>\n",
       "      <td>0</td>\n",
       "      <td>1</td>\n",
       "      <td>0</td>\n",
       "      <td>0</td>\n",
       "    </tr>\n",
       "    <tr>\n",
       "      <th>7409</th>\n",
       "      <td>46</td>\n",
       "      <td>18</td>\n",
       "      <td>6</td>\n",
       "      <td>6.25</td>\n",
       "      <td>3</td>\n",
       "      <td>0</td>\n",
       "      <td>-1</td>\n",
       "      <td>0</td>\n",
       "      <td>0</td>\n",
       "      <td>0</td>\n",
       "      <td>0.089354</td>\n",
       "      <td>0</td>\n",
       "      <td>1</td>\n",
       "      <td>0</td>\n",
       "      <td>0</td>\n",
       "      <td>1</td>\n",
       "      <td>0</td>\n",
       "      <td>0</td>\n",
       "    </tr>\n",
       "  </tbody>\n",
       "</table>\n",
       "<p>1436 rows × 18 columns</p>\n",
       "</div>"
      ],
      "text/plain": [
       "      age  day  month  time_spent  banner_views  banner_views_old  \\\n",
       "Id                                                                  \n",
       "4359   44   17      6       24.05             1                 0   \n",
       "5378   31   26      5        8.60             5                 0   \n",
       "3095   49    5      6        0.45             3                 0   \n",
       "8737   36   16      6       33.80            11                 0   \n",
       "7745   32   12      5       13.95             3                 0   \n",
       "...   ...  ...    ...         ...           ...               ...   \n",
       "4510   32    6      6       29.80             5                 0   \n",
       "4515   36   11      6        5.35             2                 0   \n",
       "4030   29    6      5       12.90             2                 0   \n",
       "5194   44   29      5       22.30             1                 0   \n",
       "7409   46   18      6        6.25             3                 0   \n",
       "\n",
       "      days_elapsed_old  X1  X2  X3        X4  marital_divorced  \\\n",
       "Id                                                               \n",
       "4359                -1   0   0   0  0.076980                 0   \n",
       "5378                -1   0   0   1  0.068700                 1   \n",
       "3095                -1   0   0   0  0.088029                 0   \n",
       "8737                -1   0   0   1  0.075291                 0   \n",
       "7745                -1   0   0   1  0.085014                 0   \n",
       "...                ...  ..  ..  ..       ...               ...   \n",
       "4510                -1   0   0   1  0.061255                 0   \n",
       "4515                -1   0   0   0  0.095655                 0   \n",
       "4030                -1   0   0   1  0.073194                 0   \n",
       "5194                -1   0   0   1  0.073457                 0   \n",
       "7409                -1   0   0   0  0.089354                 0   \n",
       "\n",
       "      marital_married  marital_single  outcome_old_failure  outcome_old_na  \\\n",
       "Id                                                                           \n",
       "4359                1               0                    0               1   \n",
       "5378                0               0                    0               1   \n",
       "3095                1               0                    0               1   \n",
       "8737                1               0                    0               1   \n",
       "7745                0               1                    0               1   \n",
       "...               ...             ...                  ...             ...   \n",
       "4510                1               0                    0               1   \n",
       "4515                1               0                    0               1   \n",
       "4030                1               0                    0               1   \n",
       "5194                1               0                    0               1   \n",
       "7409                1               0                    0               1   \n",
       "\n",
       "      outcome_old_other  outcome_old_success  \n",
       "Id                                            \n",
       "4359                  0                    0  \n",
       "5378                  0                    0  \n",
       "3095                  0                    0  \n",
       "8737                  0                    0  \n",
       "7745                  0                    0  \n",
       "...                 ...                  ...  \n",
       "4510                  0                    0  \n",
       "4515                  0                    0  \n",
       "4030                  0                    0  \n",
       "5194                  0                    0  \n",
       "7409                  0                    0  \n",
       "\n",
       "[1436 rows x 18 columns]"
      ]
     },
     "metadata": {},
     "output_type": "display_data"
    }
   ],
   "source": [
    "# This is the data set that we need to predict and fuse with actual Training data for future imputation of `education`` and `job`\n",
    "X_tr_dev = X_train.drop(columns=['job', 'education'])\n",
    "X_tr_imp_dev = X_tr_dev[X_tr_dev['device'] == 'na'].drop(columns = 'device') \n",
    "X_tr_imp_dev"
   ]
  },
  {
   "cell_type": "code",
   "execution_count": null,
   "metadata": {},
   "outputs": [
    {
     "data": {
      "text/html": [
       "<div>\n",
       "<style scoped>\n",
       "    .dataframe tbody tr th:only-of-type {\n",
       "        vertical-align: middle;\n",
       "    }\n",
       "\n",
       "    .dataframe tbody tr th {\n",
       "        vertical-align: top;\n",
       "    }\n",
       "\n",
       "    .dataframe thead th {\n",
       "        text-align: right;\n",
       "    }\n",
       "</style>\n",
       "<table border=\"1\" class=\"dataframe\">\n",
       "  <thead>\n",
       "    <tr style=\"text-align: right;\">\n",
       "      <th></th>\n",
       "      <th>age</th>\n",
       "      <th>day</th>\n",
       "      <th>month</th>\n",
       "      <th>time_spent</th>\n",
       "      <th>banner_views</th>\n",
       "      <th>banner_views_old</th>\n",
       "      <th>days_elapsed_old</th>\n",
       "      <th>X1</th>\n",
       "      <th>X2</th>\n",
       "      <th>X3</th>\n",
       "      <th>X4</th>\n",
       "      <th>marital_divorced</th>\n",
       "      <th>marital_married</th>\n",
       "      <th>marital_single</th>\n",
       "      <th>outcome_old_failure</th>\n",
       "      <th>outcome_old_na</th>\n",
       "      <th>outcome_old_other</th>\n",
       "      <th>outcome_old_success</th>\n",
       "    </tr>\n",
       "    <tr>\n",
       "      <th>Id</th>\n",
       "      <th></th>\n",
       "      <th></th>\n",
       "      <th></th>\n",
       "      <th></th>\n",
       "      <th></th>\n",
       "      <th></th>\n",
       "      <th></th>\n",
       "      <th></th>\n",
       "      <th></th>\n",
       "      <th></th>\n",
       "      <th></th>\n",
       "      <th></th>\n",
       "      <th></th>\n",
       "      <th></th>\n",
       "      <th></th>\n",
       "      <th></th>\n",
       "      <th></th>\n",
       "      <th></th>\n",
       "    </tr>\n",
       "  </thead>\n",
       "  <tbody>\n",
       "    <tr>\n",
       "      <th>4949</th>\n",
       "      <td>59</td>\n",
       "      <td>6</td>\n",
       "      <td>8</td>\n",
       "      <td>3.90</td>\n",
       "      <td>2</td>\n",
       "      <td>0</td>\n",
       "      <td>-1</td>\n",
       "      <td>0</td>\n",
       "      <td>0</td>\n",
       "      <td>0</td>\n",
       "      <td>0.073675</td>\n",
       "      <td>0</td>\n",
       "      <td>1</td>\n",
       "      <td>0</td>\n",
       "      <td>0</td>\n",
       "      <td>1</td>\n",
       "      <td>0</td>\n",
       "      <td>0</td>\n",
       "    </tr>\n",
       "    <tr>\n",
       "      <th>4298</th>\n",
       "      <td>50</td>\n",
       "      <td>5</td>\n",
       "      <td>8</td>\n",
       "      <td>27.15</td>\n",
       "      <td>1</td>\n",
       "      <td>0</td>\n",
       "      <td>-1</td>\n",
       "      <td>0</td>\n",
       "      <td>0</td>\n",
       "      <td>0</td>\n",
       "      <td>0.093803</td>\n",
       "      <td>0</td>\n",
       "      <td>1</td>\n",
       "      <td>0</td>\n",
       "      <td>0</td>\n",
       "      <td>1</td>\n",
       "      <td>0</td>\n",
       "      <td>0</td>\n",
       "    </tr>\n",
       "    <tr>\n",
       "      <th>6904</th>\n",
       "      <td>55</td>\n",
       "      <td>21</td>\n",
       "      <td>11</td>\n",
       "      <td>2.25</td>\n",
       "      <td>5</td>\n",
       "      <td>0</td>\n",
       "      <td>-1</td>\n",
       "      <td>1</td>\n",
       "      <td>0</td>\n",
       "      <td>1</td>\n",
       "      <td>0.085450</td>\n",
       "      <td>0</td>\n",
       "      <td>1</td>\n",
       "      <td>0</td>\n",
       "      <td>0</td>\n",
       "      <td>1</td>\n",
       "      <td>0</td>\n",
       "      <td>0</td>\n",
       "    </tr>\n",
       "    <tr>\n",
       "      <th>4642</th>\n",
       "      <td>44</td>\n",
       "      <td>19</td>\n",
       "      <td>11</td>\n",
       "      <td>17.65</td>\n",
       "      <td>2</td>\n",
       "      <td>0</td>\n",
       "      <td>-1</td>\n",
       "      <td>0</td>\n",
       "      <td>0</td>\n",
       "      <td>0</td>\n",
       "      <td>0.086812</td>\n",
       "      <td>0</td>\n",
       "      <td>1</td>\n",
       "      <td>0</td>\n",
       "      <td>0</td>\n",
       "      <td>1</td>\n",
       "      <td>0</td>\n",
       "      <td>0</td>\n",
       "    </tr>\n",
       "    <tr>\n",
       "      <th>2403</th>\n",
       "      <td>53</td>\n",
       "      <td>19</td>\n",
       "      <td>11</td>\n",
       "      <td>27.55</td>\n",
       "      <td>1</td>\n",
       "      <td>0</td>\n",
       "      <td>-1</td>\n",
       "      <td>0</td>\n",
       "      <td>0</td>\n",
       "      <td>0</td>\n",
       "      <td>0.078133</td>\n",
       "      <td>1</td>\n",
       "      <td>0</td>\n",
       "      <td>0</td>\n",
       "      <td>0</td>\n",
       "      <td>1</td>\n",
       "      <td>0</td>\n",
       "      <td>0</td>\n",
       "    </tr>\n",
       "    <tr>\n",
       "      <th>...</th>\n",
       "      <td>...</td>\n",
       "      <td>...</td>\n",
       "      <td>...</td>\n",
       "      <td>...</td>\n",
       "      <td>...</td>\n",
       "      <td>...</td>\n",
       "      <td>...</td>\n",
       "      <td>...</td>\n",
       "      <td>...</td>\n",
       "      <td>...</td>\n",
       "      <td>...</td>\n",
       "      <td>...</td>\n",
       "      <td>...</td>\n",
       "      <td>...</td>\n",
       "      <td>...</td>\n",
       "      <td>...</td>\n",
       "      <td>...</td>\n",
       "      <td>...</td>\n",
       "    </tr>\n",
       "    <tr>\n",
       "      <th>8241</th>\n",
       "      <td>27</td>\n",
       "      <td>4</td>\n",
       "      <td>2</td>\n",
       "      <td>53.40</td>\n",
       "      <td>1</td>\n",
       "      <td>0</td>\n",
       "      <td>-1</td>\n",
       "      <td>0</td>\n",
       "      <td>0</td>\n",
       "      <td>1</td>\n",
       "      <td>0.081256</td>\n",
       "      <td>0</td>\n",
       "      <td>0</td>\n",
       "      <td>1</td>\n",
       "      <td>0</td>\n",
       "      <td>1</td>\n",
       "      <td>0</td>\n",
       "      <td>0</td>\n",
       "    </tr>\n",
       "    <tr>\n",
       "      <th>278</th>\n",
       "      <td>42</td>\n",
       "      <td>12</td>\n",
       "      <td>5</td>\n",
       "      <td>0.70</td>\n",
       "      <td>1</td>\n",
       "      <td>0</td>\n",
       "      <td>-1</td>\n",
       "      <td>0</td>\n",
       "      <td>0</td>\n",
       "      <td>0</td>\n",
       "      <td>0.072803</td>\n",
       "      <td>0</td>\n",
       "      <td>1</td>\n",
       "      <td>0</td>\n",
       "      <td>0</td>\n",
       "      <td>1</td>\n",
       "      <td>0</td>\n",
       "      <td>0</td>\n",
       "    </tr>\n",
       "    <tr>\n",
       "      <th>3714</th>\n",
       "      <td>39</td>\n",
       "      <td>13</td>\n",
       "      <td>5</td>\n",
       "      <td>98.25</td>\n",
       "      <td>5</td>\n",
       "      <td>0</td>\n",
       "      <td>-1</td>\n",
       "      <td>1</td>\n",
       "      <td>0</td>\n",
       "      <td>1</td>\n",
       "      <td>0.072803</td>\n",
       "      <td>0</td>\n",
       "      <td>0</td>\n",
       "      <td>1</td>\n",
       "      <td>0</td>\n",
       "      <td>1</td>\n",
       "      <td>0</td>\n",
       "      <td>0</td>\n",
       "    </tr>\n",
       "    <tr>\n",
       "      <th>3325</th>\n",
       "      <td>60</td>\n",
       "      <td>18</td>\n",
       "      <td>8</td>\n",
       "      <td>4.40</td>\n",
       "      <td>7</td>\n",
       "      <td>0</td>\n",
       "      <td>-1</td>\n",
       "      <td>1</td>\n",
       "      <td>0</td>\n",
       "      <td>1</td>\n",
       "      <td>0.146533</td>\n",
       "      <td>0</td>\n",
       "      <td>1</td>\n",
       "      <td>0</td>\n",
       "      <td>0</td>\n",
       "      <td>1</td>\n",
       "      <td>0</td>\n",
       "      <td>0</td>\n",
       "    </tr>\n",
       "    <tr>\n",
       "      <th>5787</th>\n",
       "      <td>31</td>\n",
       "      <td>20</td>\n",
       "      <td>11</td>\n",
       "      <td>5.05</td>\n",
       "      <td>2</td>\n",
       "      <td>4</td>\n",
       "      <td>129</td>\n",
       "      <td>1</td>\n",
       "      <td>0</td>\n",
       "      <td>0</td>\n",
       "      <td>0.076889</td>\n",
       "      <td>0</td>\n",
       "      <td>1</td>\n",
       "      <td>0</td>\n",
       "      <td>1</td>\n",
       "      <td>0</td>\n",
       "      <td>0</td>\n",
       "      <td>0</td>\n",
       "    </tr>\n",
       "  </tbody>\n",
       "</table>\n",
       "<p>4830 rows × 18 columns</p>\n",
       "</div>"
      ],
      "text/plain": [
       "      age  day  month  time_spent  banner_views  banner_views_old  \\\n",
       "Id                                                                  \n",
       "4949   59    6      8        3.90             2                 0   \n",
       "4298   50    5      8       27.15             1                 0   \n",
       "6904   55   21     11        2.25             5                 0   \n",
       "4642   44   19     11       17.65             2                 0   \n",
       "2403   53   19     11       27.55             1                 0   \n",
       "...   ...  ...    ...         ...           ...               ...   \n",
       "8241   27    4      2       53.40             1                 0   \n",
       "278    42   12      5        0.70             1                 0   \n",
       "3714   39   13      5       98.25             5                 0   \n",
       "3325   60   18      8        4.40             7                 0   \n",
       "5787   31   20     11        5.05             2                 4   \n",
       "\n",
       "      days_elapsed_old  X1  X2  X3        X4  marital_divorced  \\\n",
       "Id                                                               \n",
       "4949                -1   0   0   0  0.073675                 0   \n",
       "4298                -1   0   0   0  0.093803                 0   \n",
       "6904                -1   1   0   1  0.085450                 0   \n",
       "4642                -1   0   0   0  0.086812                 0   \n",
       "2403                -1   0   0   0  0.078133                 1   \n",
       "...                ...  ..  ..  ..       ...               ...   \n",
       "8241                -1   0   0   1  0.081256                 0   \n",
       "278                 -1   0   0   0  0.072803                 0   \n",
       "3714                -1   1   0   1  0.072803                 0   \n",
       "3325                -1   1   0   1  0.146533                 0   \n",
       "5787               129   1   0   0  0.076889                 0   \n",
       "\n",
       "      marital_married  marital_single  outcome_old_failure  outcome_old_na  \\\n",
       "Id                                                                           \n",
       "4949                1               0                    0               1   \n",
       "4298                1               0                    0               1   \n",
       "6904                1               0                    0               1   \n",
       "4642                1               0                    0               1   \n",
       "2403                0               0                    0               1   \n",
       "...               ...             ...                  ...             ...   \n",
       "8241                0               1                    0               1   \n",
       "278                 1               0                    0               1   \n",
       "3714                0               1                    0               1   \n",
       "3325                1               0                    0               1   \n",
       "5787                1               0                    1               0   \n",
       "\n",
       "      outcome_old_other  outcome_old_success  \n",
       "Id                                            \n",
       "4949                  0                    0  \n",
       "4298                  0                    0  \n",
       "6904                  0                    0  \n",
       "4642                  0                    0  \n",
       "2403                  0                    0  \n",
       "...                 ...                  ...  \n",
       "8241                  0                    0  \n",
       "278                   0                    0  \n",
       "3714                  0                    0  \n",
       "3325                  0                    0  \n",
       "5787                  0                    0  \n",
       "\n",
       "[4830 rows x 18 columns]"
      ]
     },
     "metadata": {},
     "output_type": "display_data"
    }
   ],
   "source": [
    "X_tr_dev = X_tr_dev[X_tr_dev['device'] != 'na'] # The data set that does not have NAs\n",
    "y_tr_dev = X_tr_dev[['device']] \n",
    "X_tr_dev = X_tr_dev.drop(columns = 'device')\n",
    "X_tr_dev"
   ]
  },
  {
   "cell_type": "code",
   "execution_count": null,
   "metadata": {},
   "outputs": [
    {
     "data": {
      "text/plain": [
       "array([[0.],\n",
       "       [0.],\n",
       "       [1.],\n",
       "       ...,\n",
       "       [0.],\n",
       "       [0.],\n",
       "       [0.]])"
      ]
     },
     "metadata": {},
     "output_type": "display_data"
    }
   ],
   "source": [
    "# Transform categorical features into ordinal integers\n",
    "enc = OrdinalEncoder(categories = [['smartphone', 'desktop']]) # smartphone = 0, desktop = 1\n",
    "y_tr_dev = enc.fit_transform(y_tr_dev)\n",
    "y_tr_dev"
   ]
  },
  {
   "cell_type": "code",
   "execution_count": null,
   "metadata": {},
   "outputs": [
    {
     "name": "stdout",
     "output_type": "stream",
     "text": [
      "(4830, 1)\n",
      "(4830,)\n"
     ]
    }
   ],
   "source": [
    "# Changing shape of y_tr_dev so RandomForestClassifier properly works\n",
    "print(y_tr_dev.shape)\n",
    "y_tr_dev.shape = (y_tr_dev.shape[0],)\n",
    "print(y_tr_dev.shape)"
   ]
  },
  {
   "attachments": {},
   "cell_type": "markdown",
   "metadata": {},
   "source": [
    "We utilize the `RandomForstClassifier` to input missing data for `device`."
   ]
  },
  {
   "cell_type": "code",
   "execution_count": null,
   "metadata": {},
   "outputs": [],
   "source": [
    "rfc_dev = RandomForestClassifier(n_estimators = 100, random_state = 59, n_jobs = -2)"
   ]
  },
  {
   "cell_type": "code",
   "execution_count": null,
   "metadata": {},
   "outputs": [
    {
     "data": {
      "text/html": [
       "<style>#sk-container-id-2 {color: black;background-color: white;}#sk-container-id-2 pre{padding: 0;}#sk-container-id-2 div.sk-toggleable {background-color: white;}#sk-container-id-2 label.sk-toggleable__label {cursor: pointer;display: block;width: 100%;margin-bottom: 0;padding: 0.3em;box-sizing: border-box;text-align: center;}#sk-container-id-2 label.sk-toggleable__label-arrow:before {content: \"▸\";float: left;margin-right: 0.25em;color: #696969;}#sk-container-id-2 label.sk-toggleable__label-arrow:hover:before {color: black;}#sk-container-id-2 div.sk-estimator:hover label.sk-toggleable__label-arrow:before {color: black;}#sk-container-id-2 div.sk-toggleable__content {max-height: 0;max-width: 0;overflow: hidden;text-align: left;background-color: #f0f8ff;}#sk-container-id-2 div.sk-toggleable__content pre {margin: 0.2em;color: black;border-radius: 0.25em;background-color: #f0f8ff;}#sk-container-id-2 input.sk-toggleable__control:checked~div.sk-toggleable__content {max-height: 200px;max-width: 100%;overflow: auto;}#sk-container-id-2 input.sk-toggleable__control:checked~label.sk-toggleable__label-arrow:before {content: \"▾\";}#sk-container-id-2 div.sk-estimator input.sk-toggleable__control:checked~label.sk-toggleable__label {background-color: #d4ebff;}#sk-container-id-2 div.sk-label input.sk-toggleable__control:checked~label.sk-toggleable__label {background-color: #d4ebff;}#sk-container-id-2 input.sk-hidden--visually {border: 0;clip: rect(1px 1px 1px 1px);clip: rect(1px, 1px, 1px, 1px);height: 1px;margin: -1px;overflow: hidden;padding: 0;position: absolute;width: 1px;}#sk-container-id-2 div.sk-estimator {font-family: monospace;background-color: #f0f8ff;border: 1px dotted black;border-radius: 0.25em;box-sizing: border-box;margin-bottom: 0.5em;}#sk-container-id-2 div.sk-estimator:hover {background-color: #d4ebff;}#sk-container-id-2 div.sk-parallel-item::after {content: \"\";width: 100%;border-bottom: 1px solid gray;flex-grow: 1;}#sk-container-id-2 div.sk-label:hover label.sk-toggleable__label {background-color: #d4ebff;}#sk-container-id-2 div.sk-serial::before {content: \"\";position: absolute;border-left: 1px solid gray;box-sizing: border-box;top: 0;bottom: 0;left: 50%;z-index: 0;}#sk-container-id-2 div.sk-serial {display: flex;flex-direction: column;align-items: center;background-color: white;padding-right: 0.2em;padding-left: 0.2em;position: relative;}#sk-container-id-2 div.sk-item {position: relative;z-index: 1;}#sk-container-id-2 div.sk-parallel {display: flex;align-items: stretch;justify-content: center;background-color: white;position: relative;}#sk-container-id-2 div.sk-item::before, #sk-container-id-2 div.sk-parallel-item::before {content: \"\";position: absolute;border-left: 1px solid gray;box-sizing: border-box;top: 0;bottom: 0;left: 50%;z-index: -1;}#sk-container-id-2 div.sk-parallel-item {display: flex;flex-direction: column;z-index: 1;position: relative;background-color: white;}#sk-container-id-2 div.sk-parallel-item:first-child::after {align-self: flex-end;width: 50%;}#sk-container-id-2 div.sk-parallel-item:last-child::after {align-self: flex-start;width: 50%;}#sk-container-id-2 div.sk-parallel-item:only-child::after {width: 0;}#sk-container-id-2 div.sk-dashed-wrapped {border: 1px dashed gray;margin: 0 0.4em 0.5em 0.4em;box-sizing: border-box;padding-bottom: 0.4em;background-color: white;}#sk-container-id-2 div.sk-label label {font-family: monospace;font-weight: bold;display: inline-block;line-height: 1.2em;}#sk-container-id-2 div.sk-label-container {text-align: center;}#sk-container-id-2 div.sk-container {/* jupyter's `normalize.less` sets `[hidden] { display: none; }` but bootstrap.min.css set `[hidden] { display: none !important; }` so we also need the `!important` here to be able to override the default hidden behavior on the sphinx rendered scikit-learn.org. See: https://github.com/scikit-learn/scikit-learn/issues/21755 */display: inline-block !important;position: relative;}#sk-container-id-2 div.sk-text-repr-fallback {display: none;}</style><div id=\"sk-container-id-2\" class=\"sk-top-container\"><div class=\"sk-text-repr-fallback\"><pre>RandomForestClassifier(n_jobs=-2, random_state=59)</pre><b>In a Jupyter environment, please rerun this cell to show the HTML representation or trust the notebook. <br />On GitHub, the HTML representation is unable to render, please try loading this page with nbviewer.org.</b></div><div class=\"sk-container\" hidden><div class=\"sk-item\"><div class=\"sk-estimator sk-toggleable\"><input class=\"sk-toggleable__control sk-hidden--visually\" id=\"sk-estimator-id-2\" type=\"checkbox\" checked><label for=\"sk-estimator-id-2\" class=\"sk-toggleable__label sk-toggleable__label-arrow\">RandomForestClassifier</label><div class=\"sk-toggleable__content\"><pre>RandomForestClassifier(n_jobs=-2, random_state=59)</pre></div></div></div></div></div>"
      ],
      "text/plain": [
       "RandomForestClassifier(n_jobs=-2, random_state=59)"
      ]
     },
     "metadata": {},
     "output_type": "display_data"
    }
   ],
   "source": [
    "rfc_dev.fit(X_tr_dev, y_tr_dev) # Fit on training, device"
   ]
  },
  {
   "cell_type": "code",
   "execution_count": null,
   "metadata": {},
   "outputs": [
    {
     "data": {
      "text/plain": [
       "1.0"
      ]
     },
     "metadata": {},
     "output_type": "display_data"
    }
   ],
   "source": [
    "y_tr_dev_pred = rfc_dev.predict(X_tr_dev) # Predict on training, device\n",
    "accuracy_score(y_true = y_tr_dev, y_pred = y_tr_dev_pred) # Compare accuracy from training prediction to true values\n",
    "#np.array(y_tr_dev_pred.shape)"
   ]
  },
  {
   "attachments": {},
   "cell_type": "markdown",
   "metadata": {},
   "source": [
    "## Validation `device`"
   ]
  },
  {
   "attachments": {},
   "cell_type": "markdown",
   "metadata": {},
   "source": [
    "Now, we apply the same logic for `device`'s missing data within Validation."
   ]
  },
  {
   "cell_type": "code",
   "execution_count": null,
   "metadata": {},
   "outputs": [],
   "source": [
    "# Drop the other two missing values (`job` and `education`) to fill in `device` and ordering it accordingly\n",
    "X_v_dev = X_valid.drop(columns = ['job', 'education'])\n",
    "X_v_imp_dev = X_v_dev[X_v_dev['device'] == 'na'].drop(columns = 'device')\n",
    "X_v_dev = X_v_dev[X_v_dev['device'] != 'na']\n",
    "y_v_dev = X_v_dev[['device']]\n",
    "X_v_dev = X_v_dev.drop(columns='device')\n",
    "enc = OrdinalEncoder(categories = [['smartphone', 'desktop']])\n",
    "y_v_dev = enc.fit_transform(y_v_dev)"
   ]
  },
  {
   "cell_type": "code",
   "execution_count": null,
   "metadata": {},
   "outputs": [
    {
     "data": {
      "text/plain": [
       "0.913926499032882"
      ]
     },
     "metadata": {},
     "output_type": "display_data"
    }
   ],
   "source": [
    "y_v_dev_pred = rfc_dev.predict(X_v_dev)\n",
    "accuracy_score(y_pred = y_v_dev_pred, y_true = y_v_dev) # Compare the predicted versus true values to recieve the accuracy score"
   ]
  },
  {
   "attachments": {},
   "cell_type": "markdown",
   "metadata": {},
   "source": [
    "We have obtained a 91.4% accuracy on the missing data for Validation."
   ]
  },
  {
   "attachments": {},
   "cell_type": "markdown",
   "metadata": {},
   "source": [
    "## Test `device`"
   ]
  },
  {
   "attachments": {},
   "cell_type": "markdown",
   "metadata": {},
   "source": [
    "We repreat this process once more for the test missing values in `device`."
   ]
  },
  {
   "cell_type": "code",
   "execution_count": null,
   "metadata": {},
   "outputs": [],
   "source": [
    "# Drop the other two missing values (`job` and `education`) to fill in `device` and ordering it accordingly\n",
    "X_te_dev = X_test.drop(columns=['job', 'education'])\n",
    "X_te_imp_dev = X_te_dev[X_te_dev['device'] == 'na'].drop(columns = 'device')\n",
    "X_te_dev = X_te_dev[X_te_dev['device'] != 'na']\n",
    "y_te_dev = X_te_dev[['device']]\n",
    "X_te_dev = X_te_dev.drop(columns = 'device')\n",
    "enc = OrdinalEncoder(categories = [['smartphone', 'desktop']])\n",
    "y_te_dev = enc.fit_transform(y_te_dev)"
   ]
  },
  {
   "cell_type": "code",
   "execution_count": null,
   "metadata": {},
   "outputs": [
    {
     "data": {
      "text/plain": [
       "0.918111753371869"
      ]
     },
     "metadata": {},
     "output_type": "display_data"
    }
   ],
   "source": [
    "y_te_dev_pred = rfc_dev.predict(X_te_dev)\n",
    "accuracy_score(y_pred = y_te_dev_pred, y_true = y_te_dev) # Compare the predicted versus true values to recieve the accuracy score"
   ]
  },
  {
   "attachments": {},
   "cell_type": "markdown",
   "metadata": {},
   "source": [
    "The accruacy slightly increases from the Validation score. Therefore, we will continue to use the `RandomForestClassifier()` to imput all the missing `device` data to input into our new Training set that will be composed of no missing values."
   ]
  },
  {
   "attachments": {},
   "cell_type": "markdown",
   "metadata": {},
   "source": [
    "## Insert `device` Imputations in the Sets"
   ]
  },
  {
   "cell_type": "code",
   "execution_count": null,
   "metadata": {},
   "outputs": [],
   "source": [
    "y_tr_imp_dev = rfc_dev.predict(X_tr_imp_dev)\n",
    "y_v_imp_dev = rfc_dev.predict(X_v_imp_dev)\n",
    "y_te_imp_dev = rfc_dev.predict(X_te_imp_dev)"
   ]
  },
  {
   "cell_type": "code",
   "execution_count": null,
   "metadata": {},
   "outputs": [],
   "source": [
    "X_train.loc[X_train['device'] == 'smartphone', 'device'] = 0 # smartphone is considered 0 for train\n",
    "X_train.loc[X_train['device'] == 'desktop', 'device'] = 1 # desktop is considered 1 for train\n",
    "X_train.loc[X_tr_imp_dev.index, 'device'] = y_tr_imp_dev"
   ]
  },
  {
   "cell_type": "code",
   "execution_count": null,
   "metadata": {},
   "outputs": [],
   "source": [
    "X_valid.loc[X_valid['device'] == 'smartphone', 'device'] = 0 # smartphone is considered 0 for valid\n",
    "X_valid.loc[X_valid['device'] == 'desktop', 'device'] = 1 # desktop is considered 1 for valid\n",
    "X_valid.loc[X_v_imp_dev.index, 'device'] = y_v_imp_dev"
   ]
  },
  {
   "cell_type": "code",
   "execution_count": null,
   "metadata": {},
   "outputs": [],
   "source": [
    "X_test.loc[X_test['device'] == 'smartphone', 'device'] = 0 # smartphone is considered 0 for test\n",
    "X_test.loc[X_test['device'] == 'desktop', 'device'] = 1 # desktop is considered 1 for test\n",
    "X_test.loc[X_te_imp_dev.index, 'device'] = y_te_imp_dev"
   ]
  },
  {
   "attachments": {},
   "cell_type": "markdown",
   "metadata": {},
   "source": [
    "# Impute Most Common Value for `job` and `education`"
   ]
  },
  {
   "cell_type": "code",
   "execution_count": null,
   "metadata": {},
   "outputs": [],
   "source": [
    "# Replace missing values with the mode of each of those variables\n",
    "imputer = SimpleImputer(missing_values = \"na\", strategy = 'most_frequent')\n",
    "X_train[['job', 'education']] = imputer.fit_transform(X_train[['job', 'education']])\n",
    "X_valid[['job', 'education']] = imputer.fit_transform(X_valid[['job', 'education']])\n",
    "X_test[['job', 'education']]  = imputer.fit_transform(X_test[['job', 'education']])"
   ]
  },
  {
   "cell_type": "code",
   "execution_count": null,
   "metadata": {},
   "outputs": [],
   "source": [
    "# Create dummy variables for job, this will include 11 dummies\n",
    "X_train = pd.get_dummies(X_train, columns = ['job'])\n",
    "X_valid = pd.get_dummies(X_valid, columns = ['job'])\n",
    "X_test  = pd.get_dummies(X_test, columns = ['job'])"
   ]
  },
  {
   "cell_type": "code",
   "execution_count": null,
   "metadata": {},
   "outputs": [],
   "source": [
    "# Create ordinal values for education since they can be assumed to be ordered\n",
    "enc = OrdinalEncoder(categories = [['high_school', 'university', 'grad_school']])\n",
    "X_train['education'] = enc.fit_transform(X_train[['education']])\n",
    "X_valid['education'] = enc.fit_transform(X_valid[['education']])\n",
    "X_test['education']  = enc.fit_transform(X_test[['education']])"
   ]
  },
  {
   "cell_type": "code",
   "execution_count": null,
   "metadata": {},
   "outputs": [
    {
     "data": {
      "text/plain": [
       "Index(['age', 'education', 'device', 'day', 'month', 'time_spent',\n",
       "       'banner_views', 'banner_views_old', 'days_elapsed_old', 'X1', 'X2',\n",
       "       'X3', 'X4', 'marital_divorced', 'marital_married', 'marital_single',\n",
       "       'outcome_old_failure', 'outcome_old_na', 'outcome_old_other',\n",
       "       'outcome_old_success', 'job_entrepreneur', 'job_freelance',\n",
       "       'job_housekeeper', 'job_industrial_worker', 'job_manager',\n",
       "       'job_retired', 'job_salesman', 'job_student', 'job_teacher',\n",
       "       'job_technology', 'job_unemployed'],\n",
       "      dtype='object')"
      ]
     },
     "metadata": {},
     "output_type": "display_data"
    }
   ],
   "source": [
    "# Review that all categories have been appropriately dummified \n",
    "X_train.columns"
   ]
  },
  {
   "cell_type": "code",
   "execution_count": null,
   "metadata": {},
   "outputs": [],
   "source": [
    "# Export the six splits into CSV for clean enviroment\n",
    "X_train.to_csv('0_X_train.csv')\n",
    "y_train.to_csv('0_y_train.csv')\n",
    "X_valid.to_csv('1_X_valid.csv')\n",
    "y_valid.to_csv('1_y_valid.csv')\n",
    "X_test.to_csv('2_X_test.csv')\n",
    "y_test.to_csv('2_y_test.csv')"
   ]
  },
  {
   "attachments": {},
   "cell_type": "markdown",
   "metadata": {},
   "source": [
    "# Prepping REAL Test Set"
   ]
  },
  {
   "attachments": {},
   "cell_type": "markdown",
   "metadata": {},
   "source": [
    "The code below follows the same procedure as throughout the Training, Validation, and Test sets, but now with the provided Test set for Kaggle submissions."
   ]
  },
  {
   "cell_type": "code",
   "execution_count": null,
   "metadata": {},
   "outputs": [],
   "source": [
    "# Dummify `marital` and `outcome_old`\n",
    "campaign_test = pd.get_dummies(campaign_test, columns = ['marital', 'outcome_old'])"
   ]
  },
  {
   "cell_type": "code",
   "execution_count": null,
   "metadata": {},
   "outputs": [],
   "source": [
    "# Drop the other two missing values (`job` and `education`) to fill in `device` and ordering it accordingly\n",
    "X_campaign_test = campaign_test.drop(columns = ['job', 'education'])\n",
    "X_imp_campaign_test = X_campaign_test[X_campaign_test['device'] == 'na'].drop(columns = 'device')\n",
    "X_campaign_test = X_campaign_test[X_campaign_test['device'] != 'na']\n",
    "y_campaign_test = X_campaign_test[['device']]\n",
    "X_campaign_test = X_campaign_test.drop(columns = 'device')\n",
    "enc = OrdinalEncoder(categories = [['smartphone', 'desktop']])\n",
    "y_campaign_test = enc.fit_transform(y_campaign_test)"
   ]
  },
  {
   "attachments": {},
   "cell_type": "markdown",
   "metadata": {},
   "source": [
    "For `outcome_old`, we determined that `na` was meaningful and therefore, kept those values as is."
   ]
  },
  {
   "cell_type": "code",
   "execution_count": null,
   "metadata": {},
   "outputs": [
    {
     "data": {
      "text/plain": [
       "0.9199591280653951"
      ]
     },
     "metadata": {},
     "output_type": "display_data"
    }
   ],
   "source": [
    "y_campaign_test_pred = rfc_dev.predict(X_campaign_test)\n",
    "accuracy_score(y_pred = y_campaign_test_pred, y_true = y_campaign_test) # Compare the predicted versus true values to recieve the accuracy score"
   ]
  },
  {
   "cell_type": "code",
   "execution_count": null,
   "metadata": {},
   "outputs": [],
   "source": [
    "y_imp_campaign_test = rfc_dev.predict(X_imp_campaign_test) # Predict on the test set to produce the response"
   ]
  },
  {
   "cell_type": "code",
   "execution_count": null,
   "metadata": {},
   "outputs": [],
   "source": [
    "campaign_test.loc[campaign_test['device'] == 'smartphone', 'device'] = 0 # smartphone is considered 0 for real test\n",
    "campaign_test.loc[campaign_test['device'] == 'desktop', 'device'] = 1 # desktop is considered 1 for real test\n",
    "campaign_test.loc[X_imp_campaign_test.index, 'device'] = y_imp_campaign_test"
   ]
  },
  {
   "cell_type": "code",
   "execution_count": null,
   "metadata": {},
   "outputs": [],
   "source": [
    "imputer = SimpleImputer(missing_values = \"na\", strategy = 'most_frequent') # Impute the mode for `job` and `education``\n",
    "campaign_test[['job', 'education']] = imputer.fit_transform(campaign_test[['job', 'education']])"
   ]
  },
  {
   "cell_type": "code",
   "execution_count": null,
   "metadata": {},
   "outputs": [],
   "source": [
    "campaign_test = pd.get_dummies(campaign_test, columns = ['job']) # Dummify the 11 jobs, creating 11 new columns"
   ]
  },
  {
   "cell_type": "code",
   "execution_count": null,
   "metadata": {},
   "outputs": [],
   "source": [
    "enc = OrdinalEncoder(categories = [['high_school', 'university', 'grad_school']]) # Create an ordinal value for `education` \n",
    "campaign_test['education'] = enc.fit_transform(campaign_test[['education']])"
   ]
  },
  {
   "cell_type": "code",
   "execution_count": null,
   "metadata": {},
   "outputs": [],
   "source": [
    "campaign_test.to_csv('TEST_KAGGLE.csv') # Export CSV "
   ]
  }
 ],
 "metadata": {
  "language_info": {
   "name": "python"
  },
  "orig_nbformat": 4
 },
 "nbformat": 4,
 "nbformat_minor": 2
}
