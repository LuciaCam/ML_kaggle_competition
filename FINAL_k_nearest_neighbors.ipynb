{
 "cells": [
  {
   "attachments": {},
   "cell_type": "markdown",
   "metadata": {},
   "source": [
    "# K-Nearest Neighbors"
   ]
  },
  {
   "attachments": {},
   "cell_type": "markdown",
   "metadata": {},
   "source": [
    "This model consists oflooking at nearby observations, and using their outcomes to establish the value of a new observation. `K` stands for the number of records to be used for this prediction. In regression, the outcome will be an average of the predictor's y variable, while for classification, which is the case for this excercise, a majority vote is used."
   ]
  },
  {
   "attachments": {},
   "cell_type": "markdown",
   "metadata": {},
   "source": [
    "In this model, `k` can be seen as a tuning parameter. using a small `k` allows the model to be more localized and hence reflect changes more precisely. This also means that small values of this tuning parameter make the model more complex. "
   ]
  },
  {
   "attachments": {},
   "cell_type": "markdown",
   "metadata": {},
   "source": [
    "# Load Libraries"
   ]
  },
  {
   "cell_type": "code",
   "execution_count": 73,
   "metadata": {},
   "outputs": [],
   "source": [
    "import csv\n",
    "import pandas as pd\n",
    "import numpy as np\n",
    "import matplotlib.pyplot as plt\n",
    "%matplotlib inline\n",
    "\n",
    "from sklearn.model_selection import train_test_split, KFold, GridSearchCV, ParameterGrid\n",
    "from sklearn.neighbors import KNeighborsClassifier\n",
    "from sklearn.metrics import mean_squared_error, accuracy_score\n",
    "from sklearn.preprocessing import StandardScaler\n",
    "from sklearn.compose import ColumnTransformer\n",
    "from sklearn.pipeline import Pipeline"
   ]
  },
  {
   "attachments": {},
   "cell_type": "markdown",
   "metadata": {},
   "source": [
    "# Import Data"
   ]
  },
  {
   "cell_type": "code",
   "execution_count": 74,
   "metadata": {},
   "outputs": [],
   "source": [
    "X_train = pd.read_csv('0_X_train.csv', index_col='Id')\n",
    "X_valid = pd.read_csv('1_X_valid.csv', index_col='Id')\n",
    "X_test  = pd.read_csv('2_X_test.csv', index_col='Id')\n",
    "\n",
    "y_train = pd.read_csv('0_y_train.csv', index_col='Id')\n",
    "y_valid = pd.read_csv('1_y_valid.csv', index_col='Id')\n",
    "y_test  = pd.read_csv('2_y_test.csv', index_col='Id')\n",
    "\n",
    "num_vars = ['age', 'time_spent', 'banner_views', 'banner_views_old', 'days_elapsed_old', 'X4']\n",
    "\n",
    "#full training set\n",
    "X = pd.concat([X_train, X_valid, X_test], axis=0)\n",
    "y = pd.concat([y_train, y_valid, y_test], axis=0)\n"
   ]
  },
  {
   "attachments": {},
   "cell_type": "markdown",
   "metadata": {},
   "source": [
    "We modify the Y values to format correctly as per the  `scikitlearn` functions."
   ]
  },
  {
   "cell_type": "code",
   "execution_count": 75,
   "metadata": {},
   "outputs": [],
   "source": [
    "y_train = np.array(y_train)\n",
    "y_train = y_train.ravel()\n",
    "\n",
    "y = np.array(y)\n",
    "y = y.ravel()"
   ]
  },
  {
   "attachments": {},
   "cell_type": "markdown",
   "metadata": {},
   "source": [
    "We begin by standardizing the data. As Knn models use euclidean distance to find the closest records, it is very important that these values are all in the same scale. As clarification, we use z-score normalization given by\n",
    "\n",
    "\\begin{align}\n",
    "z=\\frac{x - \\bar{x}}{S}\n",
    "\\end{align}"
   ]
  },
  {
   "cell_type": "code",
   "execution_count": 76,
   "metadata": {},
   "outputs": [],
   "source": [
    "#scale the data\n",
    "preprocessor = ColumnTransformer(transformers=\n",
    "                                 [('num', StandardScaler(), num_vars)],\n",
    "                                  remainder='passthrough')\n",
    "\n",
    "#create pipeline \n",
    "np.random.seed(1)\n",
    "knn_pipe = Pipeline([\n",
    "    (\"preprocessor\", preprocessor),\n",
    "    (\"knn_model\", KNeighborsClassifier(n_neighbors=1))\n",
    "])\n",
    "\n",
    "#fit the model to the taining data\n",
    "knn1 = knn_pipe.fit(X_train, y_train)"
   ]
  },
  {
   "attachments": {},
   "cell_type": "markdown",
   "metadata": {},
   "source": [
    "Now that the model has been fitted, it can be used to predict the outcome."
   ]
  },
  {
   "cell_type": "code",
   "execution_count": 77,
   "metadata": {},
   "outputs": [],
   "source": [
    "#predict values for all partitions\n",
    "y_hat = knn1.predict(X_train)\n",
    "y_hat_valid = knn1.predict(X_valid)\n",
    "y_hat_test = knn1.predict(X_test)"
   ]
  },
  {
   "attachments": {},
   "cell_type": "markdown",
   "metadata": {},
   "source": [
    "We see the model performance by printing the accuracy on each of the sets."
   ]
  },
  {
   "cell_type": "code",
   "execution_count": 78,
   "metadata": {},
   "outputs": [
    {
     "name": "stdout",
     "output_type": "stream",
     "text": [
      "Training accuracy: 1.0\n",
      "Validation accuracy: 0.759493670886076\n",
      "Test accuracy: 0.7661950856291884\n"
     ]
    }
   ],
   "source": [
    "#print results of the accuracy\n",
    "print(\"Training accuracy:\", accuracy_score(y_hat, y_train))\n",
    "print(\"Validation accuracy:\", accuracy_score(y_hat_valid, y_valid))\n",
    "print(\"Test accuracy:\", accuracy_score(y_hat_test, y_test))"
   ]
  },
  {
   "attachments": {},
   "cell_type": "markdown",
   "metadata": {},
   "source": [
    "# Find Best K"
   ]
  },
  {
   "attachments": {},
   "cell_type": "markdown",
   "metadata": {},
   "source": [
    "The previous results uses `k` = 1 neighbor. As mentioned this creates a very localized model which is highly complex. However, there could be improvements in accuracy if this tunig parameter is increased to see the values of various other neighbors. As so proceed to use `GridSearch()` to generate a set of combinations of models with different tunig parameters, namely `k`."
   ]
  },
  {
   "attachments": {},
   "cell_type": "markdown",
   "metadata": {},
   "source": [
    "Additionally, to measure the results we use **cross validation** to test results."
   ]
  },
  {
   "cell_type": "code",
   "execution_count": 79,
   "metadata": {},
   "outputs": [],
   "source": [
    "#create cross validation folds\n",
    "folds = KFold(n_splits=10 , shuffle=True, random_state=1)\n",
    "\n",
    "#initiate classifier\n",
    "knn_best = KNeighborsClassifier()\n",
    "\n",
    "#establish parameter grid\n",
    "hyper_parameters = {\"n_neighbors\" : np.arange(1, 50, 2)}"
   ]
  },
  {
   "cell_type": "code",
   "execution_count": 80,
   "metadata": {},
   "outputs": [
    {
     "data": {
      "text/html": [
       "<style>#sk-container-id-3 {color: black;background-color: white;}#sk-container-id-3 pre{padding: 0;}#sk-container-id-3 div.sk-toggleable {background-color: white;}#sk-container-id-3 label.sk-toggleable__label {cursor: pointer;display: block;width: 100%;margin-bottom: 0;padding: 0.3em;box-sizing: border-box;text-align: center;}#sk-container-id-3 label.sk-toggleable__label-arrow:before {content: \"▸\";float: left;margin-right: 0.25em;color: #696969;}#sk-container-id-3 label.sk-toggleable__label-arrow:hover:before {color: black;}#sk-container-id-3 div.sk-estimator:hover label.sk-toggleable__label-arrow:before {color: black;}#sk-container-id-3 div.sk-toggleable__content {max-height: 0;max-width: 0;overflow: hidden;text-align: left;background-color: #f0f8ff;}#sk-container-id-3 div.sk-toggleable__content pre {margin: 0.2em;color: black;border-radius: 0.25em;background-color: #f0f8ff;}#sk-container-id-3 input.sk-toggleable__control:checked~div.sk-toggleable__content {max-height: 200px;max-width: 100%;overflow: auto;}#sk-container-id-3 input.sk-toggleable__control:checked~label.sk-toggleable__label-arrow:before {content: \"▾\";}#sk-container-id-3 div.sk-estimator input.sk-toggleable__control:checked~label.sk-toggleable__label {background-color: #d4ebff;}#sk-container-id-3 div.sk-label input.sk-toggleable__control:checked~label.sk-toggleable__label {background-color: #d4ebff;}#sk-container-id-3 input.sk-hidden--visually {border: 0;clip: rect(1px 1px 1px 1px);clip: rect(1px, 1px, 1px, 1px);height: 1px;margin: -1px;overflow: hidden;padding: 0;position: absolute;width: 1px;}#sk-container-id-3 div.sk-estimator {font-family: monospace;background-color: #f0f8ff;border: 1px dotted black;border-radius: 0.25em;box-sizing: border-box;margin-bottom: 0.5em;}#sk-container-id-3 div.sk-estimator:hover {background-color: #d4ebff;}#sk-container-id-3 div.sk-parallel-item::after {content: \"\";width: 100%;border-bottom: 1px solid gray;flex-grow: 1;}#sk-container-id-3 div.sk-label:hover label.sk-toggleable__label {background-color: #d4ebff;}#sk-container-id-3 div.sk-serial::before {content: \"\";position: absolute;border-left: 1px solid gray;box-sizing: border-box;top: 0;bottom: 0;left: 50%;z-index: 0;}#sk-container-id-3 div.sk-serial {display: flex;flex-direction: column;align-items: center;background-color: white;padding-right: 0.2em;padding-left: 0.2em;position: relative;}#sk-container-id-3 div.sk-item {position: relative;z-index: 1;}#sk-container-id-3 div.sk-parallel {display: flex;align-items: stretch;justify-content: center;background-color: white;position: relative;}#sk-container-id-3 div.sk-item::before, #sk-container-id-3 div.sk-parallel-item::before {content: \"\";position: absolute;border-left: 1px solid gray;box-sizing: border-box;top: 0;bottom: 0;left: 50%;z-index: -1;}#sk-container-id-3 div.sk-parallel-item {display: flex;flex-direction: column;z-index: 1;position: relative;background-color: white;}#sk-container-id-3 div.sk-parallel-item:first-child::after {align-self: flex-end;width: 50%;}#sk-container-id-3 div.sk-parallel-item:last-child::after {align-self: flex-start;width: 50%;}#sk-container-id-3 div.sk-parallel-item:only-child::after {width: 0;}#sk-container-id-3 div.sk-dashed-wrapped {border: 1px dashed gray;margin: 0 0.4em 0.5em 0.4em;box-sizing: border-box;padding-bottom: 0.4em;background-color: white;}#sk-container-id-3 div.sk-label label {font-family: monospace;font-weight: bold;display: inline-block;line-height: 1.2em;}#sk-container-id-3 div.sk-label-container {text-align: center;}#sk-container-id-3 div.sk-container {/* jupyter's `normalize.less` sets `[hidden] { display: none; }` but bootstrap.min.css set `[hidden] { display: none !important; }` so we also need the `!important` here to be able to override the default hidden behavior on the sphinx rendered scikit-learn.org. See: https://github.com/scikit-learn/scikit-learn/issues/21755 */display: inline-block !important;position: relative;}#sk-container-id-3 div.sk-text-repr-fallback {display: none;}</style><div id=\"sk-container-id-3\" class=\"sk-top-container\"><div class=\"sk-text-repr-fallback\"><pre>GridSearchCV(cv=KFold(n_splits=10, random_state=1, shuffle=True),\n",
       "             estimator=KNeighborsClassifier(),\n",
       "             param_grid={&#x27;n_neighbors&#x27;: array([ 1,  3,  5,  7,  9, 11, 13, 15, 17, 19, 21, 23, 25, 27, 29, 31, 33,\n",
       "       35, 37, 39, 41, 43, 45, 47, 49])},\n",
       "             scoring=&#x27;accuracy&#x27;)</pre><b>In a Jupyter environment, please rerun this cell to show the HTML representation or trust the notebook. <br />On GitHub, the HTML representation is unable to render, please try loading this page with nbviewer.org.</b></div><div class=\"sk-container\" hidden><div class=\"sk-item sk-dashed-wrapped\"><div class=\"sk-label-container\"><div class=\"sk-label sk-toggleable\"><input class=\"sk-toggleable__control sk-hidden--visually\" id=\"sk-estimator-id-7\" type=\"checkbox\" ><label for=\"sk-estimator-id-7\" class=\"sk-toggleable__label sk-toggleable__label-arrow\">GridSearchCV</label><div class=\"sk-toggleable__content\"><pre>GridSearchCV(cv=KFold(n_splits=10, random_state=1, shuffle=True),\n",
       "             estimator=KNeighborsClassifier(),\n",
       "             param_grid={&#x27;n_neighbors&#x27;: array([ 1,  3,  5,  7,  9, 11, 13, 15, 17, 19, 21, 23, 25, 27, 29, 31, 33,\n",
       "       35, 37, 39, 41, 43, 45, 47, 49])},\n",
       "             scoring=&#x27;accuracy&#x27;)</pre></div></div></div><div class=\"sk-parallel\"><div class=\"sk-parallel-item\"><div class=\"sk-item\"><div class=\"sk-label-container\"><div class=\"sk-label sk-toggleable\"><input class=\"sk-toggleable__control sk-hidden--visually\" id=\"sk-estimator-id-8\" type=\"checkbox\" ><label for=\"sk-estimator-id-8\" class=\"sk-toggleable__label sk-toggleable__label-arrow\">estimator: KNeighborsClassifier</label><div class=\"sk-toggleable__content\"><pre>KNeighborsClassifier()</pre></div></div></div><div class=\"sk-serial\"><div class=\"sk-item\"><div class=\"sk-estimator sk-toggleable\"><input class=\"sk-toggleable__control sk-hidden--visually\" id=\"sk-estimator-id-9\" type=\"checkbox\" ><label for=\"sk-estimator-id-9\" class=\"sk-toggleable__label sk-toggleable__label-arrow\">KNeighborsClassifier</label><div class=\"sk-toggleable__content\"><pre>KNeighborsClassifier()</pre></div></div></div></div></div></div></div></div></div></div>"
      ],
      "text/plain": [
       "GridSearchCV(cv=KFold(n_splits=10, random_state=1, shuffle=True),\n",
       "             estimator=KNeighborsClassifier(),\n",
       "             param_grid={'n_neighbors': array([ 1,  3,  5,  7,  9, 11, 13, 15, 17, 19, 21, 23, 25, 27, 29, 31, 33,\n",
       "       35, 37, 39, 41, 43, 45, 47, 49])},\n",
       "             scoring='accuracy')"
      ]
     },
     "execution_count": 80,
     "metadata": {},
     "output_type": "execute_result"
    }
   ],
   "source": [
    "#generate models\n",
    "knnCV = GridSearchCV(estimator=knn_best, param_grid=hyper_parameters, scoring = \"accuracy\",\n",
    "                       cv=folds)\n",
    "knnCV.fit(X_train, y_train)"
   ]
  },
  {
   "attachments": {},
   "cell_type": "markdown",
   "metadata": {},
   "source": [
    "We display the results to see all the models trained and their parameters."
   ]
  },
  {
   "cell_type": "code",
   "execution_count": 81,
   "metadata": {},
   "outputs": [
    {
     "data": {
      "text/html": [
       "<div>\n",
       "<style scoped>\n",
       "    .dataframe tbody tr th:only-of-type {\n",
       "        vertical-align: middle;\n",
       "    }\n",
       "\n",
       "    .dataframe tbody tr th {\n",
       "        vertical-align: top;\n",
       "    }\n",
       "\n",
       "    .dataframe thead th {\n",
       "        text-align: right;\n",
       "    }\n",
       "</style>\n",
       "<table border=\"1\" class=\"dataframe\">\n",
       "  <thead>\n",
       "    <tr style=\"text-align: right;\">\n",
       "      <th></th>\n",
       "      <th>mean_fit_time</th>\n",
       "      <th>std_fit_time</th>\n",
       "      <th>mean_score_time</th>\n",
       "      <th>std_score_time</th>\n",
       "      <th>param_n_neighbors</th>\n",
       "      <th>params</th>\n",
       "      <th>split0_test_score</th>\n",
       "      <th>split1_test_score</th>\n",
       "      <th>split2_test_score</th>\n",
       "      <th>split3_test_score</th>\n",
       "      <th>split4_test_score</th>\n",
       "      <th>split5_test_score</th>\n",
       "      <th>split6_test_score</th>\n",
       "      <th>split7_test_score</th>\n",
       "      <th>split8_test_score</th>\n",
       "      <th>split9_test_score</th>\n",
       "      <th>mean_test_score</th>\n",
       "      <th>std_test_score</th>\n",
       "      <th>rank_test_score</th>\n",
       "    </tr>\n",
       "  </thead>\n",
       "  <tbody>\n",
       "    <tr>\n",
       "      <th>0</th>\n",
       "      <td>0.004574</td>\n",
       "      <td>0.000760</td>\n",
       "      <td>0.026299</td>\n",
       "      <td>0.001976</td>\n",
       "      <td>1</td>\n",
       "      <td>{'n_neighbors': 1}</td>\n",
       "      <td>0.767145</td>\n",
       "      <td>0.773525</td>\n",
       "      <td>0.792663</td>\n",
       "      <td>0.789474</td>\n",
       "      <td>0.784689</td>\n",
       "      <td>0.763955</td>\n",
       "      <td>0.774760</td>\n",
       "      <td>0.777955</td>\n",
       "      <td>0.746006</td>\n",
       "      <td>0.758786</td>\n",
       "      <td>0.772896</td>\n",
       "      <td>0.013672</td>\n",
       "      <td>25</td>\n",
       "    </tr>\n",
       "    <tr>\n",
       "      <th>1</th>\n",
       "      <td>0.004875</td>\n",
       "      <td>0.000624</td>\n",
       "      <td>0.026481</td>\n",
       "      <td>0.001163</td>\n",
       "      <td>3</td>\n",
       "      <td>{'n_neighbors': 3}</td>\n",
       "      <td>0.824561</td>\n",
       "      <td>0.787879</td>\n",
       "      <td>0.802233</td>\n",
       "      <td>0.800638</td>\n",
       "      <td>0.800638</td>\n",
       "      <td>0.784689</td>\n",
       "      <td>0.808307</td>\n",
       "      <td>0.792332</td>\n",
       "      <td>0.793930</td>\n",
       "      <td>0.785942</td>\n",
       "      <td>0.798115</td>\n",
       "      <td>0.011477</td>\n",
       "      <td>16</td>\n",
       "    </tr>\n",
       "    <tr>\n",
       "      <th>2</th>\n",
       "      <td>0.004429</td>\n",
       "      <td>0.000425</td>\n",
       "      <td>0.027975</td>\n",
       "      <td>0.001863</td>\n",
       "      <td>5</td>\n",
       "      <td>{'n_neighbors': 5}</td>\n",
       "      <td>0.840510</td>\n",
       "      <td>0.786284</td>\n",
       "      <td>0.799043</td>\n",
       "      <td>0.797448</td>\n",
       "      <td>0.810207</td>\n",
       "      <td>0.797448</td>\n",
       "      <td>0.813099</td>\n",
       "      <td>0.805112</td>\n",
       "      <td>0.777955</td>\n",
       "      <td>0.771565</td>\n",
       "      <td>0.799867</td>\n",
       "      <td>0.018546</td>\n",
       "      <td>11</td>\n",
       "    </tr>\n",
       "    <tr>\n",
       "      <th>3</th>\n",
       "      <td>0.004534</td>\n",
       "      <td>0.000463</td>\n",
       "      <td>0.027254</td>\n",
       "      <td>0.001444</td>\n",
       "      <td>7</td>\n",
       "      <td>{'n_neighbors': 7}</td>\n",
       "      <td>0.846890</td>\n",
       "      <td>0.797448</td>\n",
       "      <td>0.821372</td>\n",
       "      <td>0.800638</td>\n",
       "      <td>0.794258</td>\n",
       "      <td>0.789474</td>\n",
       "      <td>0.805112</td>\n",
       "      <td>0.797125</td>\n",
       "      <td>0.789137</td>\n",
       "      <td>0.779553</td>\n",
       "      <td>0.802101</td>\n",
       "      <td>0.018255</td>\n",
       "      <td>8</td>\n",
       "    </tr>\n",
       "    <tr>\n",
       "      <th>4</th>\n",
       "      <td>0.004634</td>\n",
       "      <td>0.000518</td>\n",
       "      <td>0.028639</td>\n",
       "      <td>0.002155</td>\n",
       "      <td>9</td>\n",
       "      <td>{'n_neighbors': 9}</td>\n",
       "      <td>0.846890</td>\n",
       "      <td>0.808612</td>\n",
       "      <td>0.813397</td>\n",
       "      <td>0.799043</td>\n",
       "      <td>0.803828</td>\n",
       "      <td>0.779904</td>\n",
       "      <td>0.811502</td>\n",
       "      <td>0.808307</td>\n",
       "      <td>0.785942</td>\n",
       "      <td>0.787540</td>\n",
       "      <td>0.804497</td>\n",
       "      <td>0.017955</td>\n",
       "      <td>2</td>\n",
       "    </tr>\n",
       "  </tbody>\n",
       "</table>\n",
       "</div>"
      ],
      "text/plain": [
       "   mean_fit_time  std_fit_time  mean_score_time  std_score_time  \\\n",
       "0       0.004574      0.000760         0.026299        0.001976   \n",
       "1       0.004875      0.000624         0.026481        0.001163   \n",
       "2       0.004429      0.000425         0.027975        0.001863   \n",
       "3       0.004534      0.000463         0.027254        0.001444   \n",
       "4       0.004634      0.000518         0.028639        0.002155   \n",
       "\n",
       "  param_n_neighbors              params  split0_test_score  split1_test_score  \\\n",
       "0                 1  {'n_neighbors': 1}           0.767145           0.773525   \n",
       "1                 3  {'n_neighbors': 3}           0.824561           0.787879   \n",
       "2                 5  {'n_neighbors': 5}           0.840510           0.786284   \n",
       "3                 7  {'n_neighbors': 7}           0.846890           0.797448   \n",
       "4                 9  {'n_neighbors': 9}           0.846890           0.808612   \n",
       "\n",
       "   split2_test_score  split3_test_score  split4_test_score  split5_test_score  \\\n",
       "0           0.792663           0.789474           0.784689           0.763955   \n",
       "1           0.802233           0.800638           0.800638           0.784689   \n",
       "2           0.799043           0.797448           0.810207           0.797448   \n",
       "3           0.821372           0.800638           0.794258           0.789474   \n",
       "4           0.813397           0.799043           0.803828           0.779904   \n",
       "\n",
       "   split6_test_score  split7_test_score  split8_test_score  split9_test_score  \\\n",
       "0           0.774760           0.777955           0.746006           0.758786   \n",
       "1           0.808307           0.792332           0.793930           0.785942   \n",
       "2           0.813099           0.805112           0.777955           0.771565   \n",
       "3           0.805112           0.797125           0.789137           0.779553   \n",
       "4           0.811502           0.808307           0.785942           0.787540   \n",
       "\n",
       "   mean_test_score  std_test_score  rank_test_score  \n",
       "0         0.772896        0.013672               25  \n",
       "1         0.798115        0.011477               16  \n",
       "2         0.799867        0.018546               11  \n",
       "3         0.802101        0.018255                8  \n",
       "4         0.804497        0.017955                2  "
      ]
     },
     "execution_count": 81,
     "metadata": {},
     "output_type": "execute_result"
    }
   ],
   "source": [
    "pd.DataFrame(knnCV.cv_results_).head()"
   ]
  },
  {
   "attachments": {},
   "cell_type": "markdown",
   "metadata": {},
   "source": [
    "Next, to find the best, we extract the Accuracy and we save it to a new variable."
   ]
  },
  {
   "cell_type": "code",
   "execution_count": 82,
   "metadata": {},
   "outputs": [
    {
     "data": {
      "text/plain": [
       "11"
      ]
     },
     "execution_count": 82,
     "metadata": {},
     "output_type": "execute_result"
    }
   ],
   "source": [
    "resCV = knnCV.cv_results_\n",
    "\n",
    "#extract parameters\n",
    "test_accs = resCV[\"mean_test_score\"]\n",
    "std_test_accs = resCV[\"std_test_score\"] / np.sqrt(folds.get_n_splits())\n",
    "k_grid = resCV[\"param_n_neighbors\"].data\n",
    "\n",
    "index_best = np.argmax(test_accs) # index of the k value with the highest accuracy\n",
    "best_k = k_grid[index_best]\n",
    "best_k"
   ]
  },
  {
   "cell_type": "code",
   "execution_count": 83,
   "metadata": {},
   "outputs": [
    {
     "data": {
      "text/plain": [
       "49"
      ]
     },
     "execution_count": 83,
     "metadata": {},
     "output_type": "execute_result"
    }
   ],
   "source": [
    "#determine the k parameters whitin the 1 standard deviation rule\n",
    "one_std_rule_best_k = np.max(k_grid[test_accs <= test_accs[index_best] - std_test_accs[index_best]])\n",
    "one_std_rule_best_k"
   ]
  },
  {
   "cell_type": "code",
   "execution_count": 84,
   "metadata": {},
   "outputs": [
    {
     "name": "stdout",
     "output_type": "stream",
     "text": [
      "best K: 11\n",
      "1-SD K: 49\n",
      "Best score for K: 0.8048134786574336\n"
     ]
    }
   ],
   "source": [
    "# Choose best model that minimizes cv_error\n",
    "mean_scores = knnCV.cv_results_[\"mean_test_score\"]\n",
    "std_scores = knnCV.cv_results_[\"std_test_score\"] / np.sqrt(knnCV.n_splits_)\n",
    "k_values = knnCV.cv_results_[\"param_n_neighbors\"].data\n",
    "\n",
    "best_index = np.argmax(mean_scores)\n",
    "max_k = k_values[best_index]\n",
    "threshold_knn = mean_scores[best_index] - std_scores[best_index]\n",
    "one_std_rule_best_k = np.max(k_values[mean_scores <= threshold_knn])\n",
    "\n",
    "print(\"best K:\", max_k)\n",
    "print(\"1-SD K:\", one_std_rule_best_k)\n",
    "print(\"Best score for K:\", np.max(mean_scores))"
   ]
  },
  {
   "cell_type": "code",
   "execution_count": 85,
   "metadata": {},
   "outputs": [
    {
     "data": {
      "image/png": "[encoded data removed]",
      "text/plain": [
       "<Figure size 700x600 with 1 Axes>"
      ]
     },
     "metadata": {},
     "output_type": "display_data"
    }
   ],
   "source": [
    "#create plot\n",
    "plt.figure(figsize=(7,6))\n",
    "plt.errorbar(x=k_grid, y=test_accs, yerr=std_test_accs, fmt='o', capsize=3)\n",
    "\n",
    "plt.axvline(best_k, ls='dotted', color=\"grey\")#vertical line at the k yielding minimum CV MSE\n",
    "plt.axvline(one_std_rule_best_k, ls='dotted', color=\"blue\")#vertical line at best k value according to 1 std err rule\n",
    "plt.axhline(test_accs[index_best] - std_test_accs[index_best], ls='dotted', color=\"gray\")\n",
    "\n",
    "plt.title(\"kNN Classifier CV error\")\n",
    "plt.xlabel('k (nb neighbors)')\n",
    "plt.ylabel('Accuracy')\n",
    "plt.show()"
   ]
  },
  {
   "attachments": {},
   "cell_type": "markdown",
   "metadata": {},
   "source": [
    "# Optimal KNN"
   ]
  },
  {
   "attachments": {},
   "cell_type": "markdown",
   "metadata": {},
   "source": [
    "Having determined the best model, we can create a new instance for prediction."
   ]
  },
  {
   "cell_type": "code",
   "execution_count": 86,
   "metadata": {},
   "outputs": [],
   "source": [
    "np.random.seed(1)\n",
    "knn_pipe_opt = Pipeline([\n",
    "    (\"preprocessor\", preprocessor),\n",
    "    (\"knn_model\", KNeighborsClassifier(n_neighbors=one_std_rule_best_k))\n",
    "])"
   ]
  },
  {
   "attachments": {},
   "cell_type": "markdown",
   "metadata": {},
   "source": [
    "In addition to the regular partitions, the models are fitted and used to predict the values of the complete data set provided. This is to see if using the whole data set can allow for more information to captured and hence provide better predictions."
   ]
  },
  {
   "attachments": {},
   "cell_type": "markdown",
   "metadata": {},
   "source": [
    "## Results: k-NN Best Model"
   ]
  },
  {
   "cell_type": "code",
   "execution_count": 87,
   "metadata": {},
   "outputs": [
    {
     "name": "stdout",
     "output_type": "stream",
     "text": [
      "KNN Best Model\n",
      " \n",
      "Training accuracy: 0.7774\n",
      "Validation accuracy: 0.7416\n",
      "Test accuracy: 0.7558\n",
      "X accuracy for Partially Trained Model: 0.7688\n",
      "X accuracy on Fully Trained Model: 0.7856\n"
     ]
    }
   ],
   "source": [
    "#Print the results\n",
    "print(\"KNN Best Model\")\n",
    "print(\" \")\n",
    "\n",
    "#fit and predict on partitioned data set\n",
    "knn_pipe_opt.fit(X_train, y_train)\n",
    "y_hat = knn_pipe_opt.predict(X_train)\n",
    "y_hat_valid = knn_pipe_opt.predict(X_valid)\n",
    "y_hat_test = knn_pipe_opt.predict(X_test)\n",
    "y_hat_train_full = knn_pipe_opt.predict(X)\n",
    "print(\"Training accuracy:\", round(accuracy_score(y_hat, y_train),4))\n",
    "print(\"Validation accuracy:\", round(accuracy_score(y_hat_valid, y_valid),4))\n",
    "print(\"Test accuracy:\", round(accuracy_score(y_hat_test, y_test),4))\n",
    "print(\"X accuracy for Partially Trained Model:\", round(accuracy_score(y_hat_train_full, y),4))\n",
    "\n",
    "#fit and predict on all data\n",
    "knn_pipe_opt.fit(X, y)\n",
    "y_hat_full = knn_opt_full.predict(X)\n",
    "print(\"X accuracy on Fully Trained Model:\", round(accuracy_score(y_hat_full, y),4))\n"
   ]
  },
  {
   "attachments": {},
   "cell_type": "markdown",
   "metadata": {},
   "source": [
    "As observed, there is no significant difference with respect to the full data set predictions with respect to which model is used. It also presents no large improvements with respect to the prediction on the partitions. "
   ]
  }
 ],
 "metadata": {
  "kernelspec": {
   "display_name": "Python 3",
   "language": "python",
   "name": "python3"
  },
  "language_info": {
   "codemirror_mode": {
    "name": "ipython",
    "version": 3
   },
   "file_extension": ".py",
   "mimetype": "text/x-python",
   "name": "python",
   "nbconvert_exporter": "python",
   "pygments_lexer": "ipython3",
   "version": "3.11.1"
  },
  "orig_nbformat": 4
 },
 "nbformat": 4,
 "nbformat_minor": 2
}
