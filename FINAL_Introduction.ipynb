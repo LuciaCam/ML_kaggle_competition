{
 "cells": [
  {
   "attachments": {},
   "cell_type": "markdown",
   "metadata": {},
   "source": [
    "# Introduction"
   ]
  },
  {
   "attachments": {},
   "cell_type": "markdown",
   "metadata": {},
   "source": [
    "## **Team**: Diamonds\n",
    "#### Francisco Arrieta, Lucia Camenisch, and Emily Schmidt"
   ]
  },
  {
   "attachments": {},
   "cell_type": "markdown",
   "metadata": {},
   "source": [
    "### Data Description"
   ]
  },
  {
   "attachments": {},
   "cell_type": "markdown",
   "metadata": {},
   "source": [
    "A company wants to assess the quality of their online advertisement campaign. Online users are the main interest in this campaign. The users see a web banner during their browsing activity. For each user, they want to be able to predict whether they subscribe to the advertised product through the advertisement banner, based on the information they have about them. To subscribe, the user has to click on the banner and then subscribe to the service.\n",
    "\n",
    "* The target variable name: `subsscription`."
   ]
  },
  {
   "attachments": {},
   "cell_type": "markdown",
   "metadata": {},
   "source": [
    "### Data Fields"
   ]
  },
  {
   "attachments": {},
   "cell_type": "markdown",
   "metadata": {},
   "source": [
    "**Unique Identifier**\n",
    "* `Id`: A unique identifier of the observations in each dataset. In the test set, it is used to match your predictions with the true values.\n",
    "\n",
    "**Target Variable** (only in the training data)\n",
    "* `subscription`: whether the user subscribed through the banner (1: yes, 0: no)\n",
    "\n",
    "**Demographic Variables**\n",
    "* `age`: (numeric)\n",
    "\n",
    "* `job`: Type of job (categorical: teacher, industrial_worker, entrepreneur, housekeeper, manager, retired, freelance, salesman, student, technology, unemployed, na)\n",
    "\n",
    "* `marital`: marital status (categorical: married, divorced, single)\n",
    "\n",
    "* `education`: (categorical: high_school, university, grad_school, na)\n",
    "\n",
    "**Variables about the current campaign**\n",
    "* `device`: From which device does the user see the banner? (categorical: smartphone, desktop, na)\n",
    "\n",
    "* `day`: Last day of the month when the user saw the banner (numeric)\n",
    "\n",
    "* `month`: Last month of the year when the user saw the banner (numeric)\n",
    "\n",
    "* `time_spent`: How long the user looked at the banner last time (in seconds) (numeric)\n",
    "\n",
    "* `banner_views`: Number of times the user saw the banner (numeric)\n",
    "\n",
    "**Variables About an Old Campaign for the Same Product**\n",
    "* `banner_views_old`: Number of times the user saw the banner during an old (and related) online ads campaign (numeric)\n",
    "\n",
    "* `days_elapsed_old`: Number of days since the user saw the banner of an old (and related) online ads campaign (numeric, -1 if the user never saw the banner)\n",
    "\n",
    "* `outcome_old`: Outcome of the old (and related) online ads campaign (categorical: failure, other, success, na)\n",
    "\n",
    "**Variables with No Name**\n",
    "* X1: (categorical: 1, 0)\n",
    "\n",
    "* X2: (categorical: 1, 0)\n",
    "\n",
    "* X3: (categorical: 1, 0)\n",
    "\n",
    "* X4: (numeric)"
   ]
  },
  {
   "attachments": {},
   "cell_type": "markdown",
   "metadata": {},
   "source": [
    "## Project Structure\n",
    "\n",
    "##### I Introduction\n",
    "##### II Exploratory Analysis\n",
    "##### III Data Imputation\n",
    "##### IV Attempted Models\n",
    "* LDA and QDA\n",
    "\n",
    "* Logistic Regression\n",
    "\n",
    "* k-Nearest Neighbors\n",
    "\n",
    "* Support Vector Machines (SVM)\n",
    "\n",
    "* Decision Tree\n",
    "\n",
    "* Random Forest\n",
    "\n",
    "* Neural Networks\n",
    "\n",
    "* XGBoost\n",
    "\n",
    "##### V  Model Comparison\n",
    "* Model Selection Approach\n",
    "\n",
    "#####  VI Final Model\n",
    "* Best Predictive Model Description\n",
    "\n",
    "* Tuning Parameters Analysis\n",
    "\n",
    "##### VII Best Model Diagnostics and Final Kaggle Predicition\n",
    "\n",
    "##### VIII Conclusion\n",
    "\n",
    "\n"
   ]
  }
 ],
 "metadata": {
  "language_info": {
   "name": "python"
  },
  "orig_nbformat": 4
 },
 "nbformat": 4,
 "nbformat_minor": 2
}
